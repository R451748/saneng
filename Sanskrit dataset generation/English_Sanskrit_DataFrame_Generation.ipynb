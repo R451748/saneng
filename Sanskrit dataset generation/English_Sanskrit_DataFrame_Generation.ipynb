{
 "cells": [
  {
   "cell_type": "code",
   "execution_count": 1,
   "id": "8f07a5f8",
   "metadata": {},
   "outputs": [],
   "source": [
    "import pandas as pd\n",
    "import numpy"
   ]
  },
  {
   "cell_type": "code",
   "execution_count": 2,
   "id": "d3f7f7cb",
   "metadata": {},
   "outputs": [],
   "source": [
    "def get_data(english,sanskrit):\n",
    "    fline=[]\n",
    "    gline=[]\n",
    "    try:\n",
    "        f=open('sanskrit11.txt','r',encoding=\"utf8\")\n",
    "        g=open('english11.txt','r')\n",
    "    except:\n",
    "        print(\"Couldn't open the file!!!!!\")\n",
    "        return\n",
    "    \n",
    "    for i in f:\n",
    "        if(i!='\\n'):\n",
    "            fline.append(i)\n",
    "    for i in g:\n",
    "        if(i!='\\n'):\n",
    "            gline.append(i)\n",
    "    print('English line count======>',len(gline))\n",
    "    print('Sanskrit line count=====>',len(fline))\n",
    "    if(len(fline)!=len(gline)):\n",
    "        print('Some lines missing!!!!!!!')\n",
    "        return\n",
    "    en_san=[]\n",
    "    if(len(fline)==len(gline)):\n",
    "        for i in range(len(fline)):\n",
    "            en_san.append([fline[i],gline[i]])\n",
    "    print('Total number of translations========>', len(en_san))\n",
    "    return en_san"
   ]
  },
  {
   "cell_type": "code",
   "execution_count": 25,
   "id": "24cf11d5",
   "metadata": {},
   "outputs": [
    {
     "name": "stdout",
     "output_type": "stream",
     "text": [
      "*********** 11 ************\n",
      "English line count======> 1290\n",
      "Sanskrit line count=====> 1290\n",
      "Total number of translations========> 1290\n",
      "*********** 12 ************\n",
      "English line count======> 1290\n",
      "Sanskrit line count=====> 1290\n",
      "Total number of translations========> 1290\n",
      "*********** 13 ************\n",
      "English line count======> 1290\n",
      "Sanskrit line count=====> 1290\n",
      "Total number of translations========> 1290\n",
      "*********** 14 ************\n",
      "English line count======> 1290\n",
      "Sanskrit line count=====> 1290\n",
      "Total number of translations========> 1290\n",
      "*********** 15 ************\n",
      "English line count======> 1290\n",
      "Sanskrit line count=====> 1290\n",
      "Total number of translations========> 1290\n",
      "*********** 16 ************\n",
      "English line count======> 1290\n",
      "Sanskrit line count=====> 1290\n",
      "Total number of translations========> 1290\n",
      "*********** 17 ************\n",
      "English line count======> 1290\n",
      "Sanskrit line count=====> 1290\n",
      "Total number of translations========> 1290\n",
      "*********** 18 ************\n",
      "English line count======> 1290\n",
      "Sanskrit line count=====> 1290\n",
      "Total number of translations========> 1290\n",
      "*********** 19 ************\n",
      "English line count======> 1290\n",
      "Sanskrit line count=====> 1290\n",
      "Total number of translations========> 1290\n",
      "*********** 20 ************\n",
      "English line count======> 1290\n",
      "Sanskrit line count=====> 1290\n",
      "Total number of translations========> 1290\n"
     ]
    }
   ],
   "source": [
    "for i in range(11,21):\n",
    "    print('***********',i,'************')\n",
    "    data=get_data('english'+str(i)+'.txt','sanskrit'+str(i)+'.txt')\n",
    "    df=pd.DataFrame(data,columns=['sanskrit','english'])\n",
    "    df.head()\n",
    "    df.to_csv('en_san'+str(i)+'.csv', index=False)"
   ]
  },
  {
   "cell_type": "code",
   "execution_count": 3,
   "id": "61f76e7c",
   "metadata": {},
   "outputs": [
    {
     "name": "stdout",
     "output_type": "stream",
     "text": [
      "English line count======> 1290\n",
      "Sanskrit line count=====> 1290\n",
      "Total number of translations========> 1290\n"
     ]
    }
   ],
   "source": [
    "data=get_data('english11.txt','sanskrit11.txt')\n",
    "df=pd.DataFrame(data,columns=['sanskrit','english'])"
   ]
  },
  {
   "cell_type": "code",
   "execution_count": 4,
   "id": "e139832c",
   "metadata": {},
   "outputs": [
    {
     "name": "stdout",
     "output_type": "stream",
     "text": [
      "*********** 12 ************\n",
      "English line count======> 1290\n",
      "Sanskrit line count=====> 1290\n",
      "Total number of translations========> 1290\n",
      "2580\n",
      "*********** 13 ************\n",
      "English line count======> 1290\n",
      "Sanskrit line count=====> 1290\n",
      "Total number of translations========> 1290\n",
      "3870\n",
      "*********** 14 ************\n",
      "English line count======> 1290\n",
      "Sanskrit line count=====> 1290\n",
      "Total number of translations========> 1290\n",
      "5160\n",
      "*********** 15 ************\n",
      "English line count======> 1290\n",
      "Sanskrit line count=====> 1290\n",
      "Total number of translations========> 1290\n",
      "6450\n",
      "*********** 16 ************\n",
      "English line count======> 1290\n",
      "Sanskrit line count=====> 1290\n",
      "Total number of translations========> 1290\n",
      "7740\n",
      "*********** 17 ************\n",
      "English line count======> 1290\n",
      "Sanskrit line count=====> 1290\n",
      "Total number of translations========> 1290\n",
      "9030\n",
      "*********** 18 ************\n",
      "English line count======> 1290\n",
      "Sanskrit line count=====> 1290\n",
      "Total number of translations========> 1290\n",
      "10320\n",
      "*********** 19 ************\n",
      "English line count======> 1290\n",
      "Sanskrit line count=====> 1290\n",
      "Total number of translations========> 1290\n",
      "11610\n",
      "*********** 20 ************\n",
      "English line count======> 1290\n",
      "Sanskrit line count=====> 1290\n",
      "Total number of translations========> 1290\n",
      "12900\n"
     ]
    }
   ],
   "source": [
    "for i in range(12,21):\n",
    "    print('***********',i,'************')\n",
    "    data=get_data('english'+str(i)+'.txt','sanskrit'+str(i)+'.txt')\n",
    "    df1=pd.DataFrame(data,columns=['sanskrit','english'])\n",
    "    df=pd.concat([df,df1])\n",
    "    df.head()\n",
    "    print(len(df['english']))\n",
    "df.to_csv('dataset_san_en.csv', index=False)"
   ]
  },
  {
   "cell_type": "code",
   "execution_count": null,
   "id": "33f35492",
   "metadata": {},
   "outputs": [],
   "source": []
  }
 ],
 "metadata": {
  "kernelspec": {
   "display_name": "Python 3 (ipykernel)",
   "language": "python",
   "name": "python3"
  },
  "language_info": {
   "codemirror_mode": {
    "name": "ipython",
    "version": 3
   },
   "file_extension": ".py",
   "mimetype": "text/x-python",
   "name": "python",
   "nbconvert_exporter": "python",
   "pygments_lexer": "ipython3",
   "version": "3.10.7"
  }
 },
 "nbformat": 4,
 "nbformat_minor": 5
}
